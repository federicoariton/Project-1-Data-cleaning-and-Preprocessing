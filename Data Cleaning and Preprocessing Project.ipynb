{
 "cells": [
  {
   "cell_type": "markdown",
   "id": "60650bbd",
   "metadata": {},
   "source": [
    "# Federico Ariton\n",
    "\n",
    "## Skills Developed: Data cleaning, data wrangling, attention to detail."
   ]
  },
  {
   "cell_type": "markdown",
   "id": "ed39c298",
   "metadata": {},
   "source": [
    "# Loading Dataset"
   ]
  },
  {
   "cell_type": "code",
   "execution_count": 9,
   "id": "4f2b5d70",
   "metadata": {},
   "outputs": [],
   "source": [
    "# Importing libraries\n",
    "import pandas as pd\n",
    "import numpy as np\n",
    "import seaborn as sns\n",
    "import matplotlib.pyplot as plt"
   ]
  },
  {
   "cell_type": "code",
   "execution_count": 2,
   "id": "e304a619",
   "metadata": {},
   "outputs": [
    {
     "data": {
      "text/html": [
       "<div>\n",
       "<style scoped>\n",
       "    .dataframe tbody tr th:only-of-type {\n",
       "        vertical-align: middle;\n",
       "    }\n",
       "\n",
       "    .dataframe tbody tr th {\n",
       "        vertical-align: top;\n",
       "    }\n",
       "\n",
       "    .dataframe thead th {\n",
       "        text-align: right;\n",
       "    }\n",
       "</style>\n",
       "<table border=\"1\" class=\"dataframe\">\n",
       "  <thead>\n",
       "    <tr style=\"text-align: right;\">\n",
       "      <th></th>\n",
       "      <th>Passengerid</th>\n",
       "      <th>Age</th>\n",
       "      <th>Fare</th>\n",
       "      <th>Sex</th>\n",
       "      <th>sibsp</th>\n",
       "      <th>zero</th>\n",
       "      <th>zero.1</th>\n",
       "      <th>zero.2</th>\n",
       "      <th>zero.3</th>\n",
       "      <th>zero.4</th>\n",
       "      <th>...</th>\n",
       "      <th>zero.12</th>\n",
       "      <th>zero.13</th>\n",
       "      <th>zero.14</th>\n",
       "      <th>Pclass</th>\n",
       "      <th>zero.15</th>\n",
       "      <th>zero.16</th>\n",
       "      <th>Embarked</th>\n",
       "      <th>zero.17</th>\n",
       "      <th>zero.18</th>\n",
       "      <th>2urvived</th>\n",
       "    </tr>\n",
       "  </thead>\n",
       "  <tbody>\n",
       "    <tr>\n",
       "      <th>0</th>\n",
       "      <td>1</td>\n",
       "      <td>22.0</td>\n",
       "      <td>7.2500</td>\n",
       "      <td>0</td>\n",
       "      <td>1</td>\n",
       "      <td>0</td>\n",
       "      <td>0</td>\n",
       "      <td>0</td>\n",
       "      <td>0</td>\n",
       "      <td>0</td>\n",
       "      <td>...</td>\n",
       "      <td>0</td>\n",
       "      <td>0</td>\n",
       "      <td>0</td>\n",
       "      <td>3</td>\n",
       "      <td>0</td>\n",
       "      <td>0</td>\n",
       "      <td>2.0</td>\n",
       "      <td>0</td>\n",
       "      <td>0</td>\n",
       "      <td>0</td>\n",
       "    </tr>\n",
       "    <tr>\n",
       "      <th>1</th>\n",
       "      <td>2</td>\n",
       "      <td>38.0</td>\n",
       "      <td>71.2833</td>\n",
       "      <td>1</td>\n",
       "      <td>1</td>\n",
       "      <td>0</td>\n",
       "      <td>0</td>\n",
       "      <td>0</td>\n",
       "      <td>0</td>\n",
       "      <td>0</td>\n",
       "      <td>...</td>\n",
       "      <td>0</td>\n",
       "      <td>0</td>\n",
       "      <td>0</td>\n",
       "      <td>1</td>\n",
       "      <td>0</td>\n",
       "      <td>0</td>\n",
       "      <td>0.0</td>\n",
       "      <td>0</td>\n",
       "      <td>0</td>\n",
       "      <td>1</td>\n",
       "    </tr>\n",
       "    <tr>\n",
       "      <th>2</th>\n",
       "      <td>3</td>\n",
       "      <td>26.0</td>\n",
       "      <td>7.9250</td>\n",
       "      <td>1</td>\n",
       "      <td>0</td>\n",
       "      <td>0</td>\n",
       "      <td>0</td>\n",
       "      <td>0</td>\n",
       "      <td>0</td>\n",
       "      <td>0</td>\n",
       "      <td>...</td>\n",
       "      <td>0</td>\n",
       "      <td>0</td>\n",
       "      <td>0</td>\n",
       "      <td>3</td>\n",
       "      <td>0</td>\n",
       "      <td>0</td>\n",
       "      <td>2.0</td>\n",
       "      <td>0</td>\n",
       "      <td>0</td>\n",
       "      <td>1</td>\n",
       "    </tr>\n",
       "    <tr>\n",
       "      <th>3</th>\n",
       "      <td>4</td>\n",
       "      <td>35.0</td>\n",
       "      <td>53.1000</td>\n",
       "      <td>1</td>\n",
       "      <td>1</td>\n",
       "      <td>0</td>\n",
       "      <td>0</td>\n",
       "      <td>0</td>\n",
       "      <td>0</td>\n",
       "      <td>0</td>\n",
       "      <td>...</td>\n",
       "      <td>0</td>\n",
       "      <td>0</td>\n",
       "      <td>0</td>\n",
       "      <td>1</td>\n",
       "      <td>0</td>\n",
       "      <td>0</td>\n",
       "      <td>2.0</td>\n",
       "      <td>0</td>\n",
       "      <td>0</td>\n",
       "      <td>1</td>\n",
       "    </tr>\n",
       "    <tr>\n",
       "      <th>4</th>\n",
       "      <td>5</td>\n",
       "      <td>35.0</td>\n",
       "      <td>8.0500</td>\n",
       "      <td>0</td>\n",
       "      <td>0</td>\n",
       "      <td>0</td>\n",
       "      <td>0</td>\n",
       "      <td>0</td>\n",
       "      <td>0</td>\n",
       "      <td>0</td>\n",
       "      <td>...</td>\n",
       "      <td>0</td>\n",
       "      <td>0</td>\n",
       "      <td>0</td>\n",
       "      <td>3</td>\n",
       "      <td>0</td>\n",
       "      <td>0</td>\n",
       "      <td>2.0</td>\n",
       "      <td>0</td>\n",
       "      <td>0</td>\n",
       "      <td>0</td>\n",
       "    </tr>\n",
       "    <tr>\n",
       "      <th>...</th>\n",
       "      <td>...</td>\n",
       "      <td>...</td>\n",
       "      <td>...</td>\n",
       "      <td>...</td>\n",
       "      <td>...</td>\n",
       "      <td>...</td>\n",
       "      <td>...</td>\n",
       "      <td>...</td>\n",
       "      <td>...</td>\n",
       "      <td>...</td>\n",
       "      <td>...</td>\n",
       "      <td>...</td>\n",
       "      <td>...</td>\n",
       "      <td>...</td>\n",
       "      <td>...</td>\n",
       "      <td>...</td>\n",
       "      <td>...</td>\n",
       "      <td>...</td>\n",
       "      <td>...</td>\n",
       "      <td>...</td>\n",
       "      <td>...</td>\n",
       "    </tr>\n",
       "    <tr>\n",
       "      <th>1304</th>\n",
       "      <td>1305</td>\n",
       "      <td>28.0</td>\n",
       "      <td>8.0500</td>\n",
       "      <td>0</td>\n",
       "      <td>0</td>\n",
       "      <td>0</td>\n",
       "      <td>0</td>\n",
       "      <td>0</td>\n",
       "      <td>0</td>\n",
       "      <td>0</td>\n",
       "      <td>...</td>\n",
       "      <td>0</td>\n",
       "      <td>0</td>\n",
       "      <td>0</td>\n",
       "      <td>3</td>\n",
       "      <td>0</td>\n",
       "      <td>0</td>\n",
       "      <td>2.0</td>\n",
       "      <td>0</td>\n",
       "      <td>0</td>\n",
       "      <td>0</td>\n",
       "    </tr>\n",
       "    <tr>\n",
       "      <th>1305</th>\n",
       "      <td>1306</td>\n",
       "      <td>39.0</td>\n",
       "      <td>108.9000</td>\n",
       "      <td>1</td>\n",
       "      <td>0</td>\n",
       "      <td>0</td>\n",
       "      <td>0</td>\n",
       "      <td>0</td>\n",
       "      <td>0</td>\n",
       "      <td>0</td>\n",
       "      <td>...</td>\n",
       "      <td>0</td>\n",
       "      <td>0</td>\n",
       "      <td>0</td>\n",
       "      <td>1</td>\n",
       "      <td>0</td>\n",
       "      <td>0</td>\n",
       "      <td>0.0</td>\n",
       "      <td>0</td>\n",
       "      <td>0</td>\n",
       "      <td>0</td>\n",
       "    </tr>\n",
       "    <tr>\n",
       "      <th>1306</th>\n",
       "      <td>1307</td>\n",
       "      <td>38.5</td>\n",
       "      <td>7.2500</td>\n",
       "      <td>0</td>\n",
       "      <td>0</td>\n",
       "      <td>0</td>\n",
       "      <td>0</td>\n",
       "      <td>0</td>\n",
       "      <td>0</td>\n",
       "      <td>0</td>\n",
       "      <td>...</td>\n",
       "      <td>0</td>\n",
       "      <td>0</td>\n",
       "      <td>0</td>\n",
       "      <td>3</td>\n",
       "      <td>0</td>\n",
       "      <td>0</td>\n",
       "      <td>2.0</td>\n",
       "      <td>0</td>\n",
       "      <td>0</td>\n",
       "      <td>0</td>\n",
       "    </tr>\n",
       "    <tr>\n",
       "      <th>1307</th>\n",
       "      <td>1308</td>\n",
       "      <td>28.0</td>\n",
       "      <td>8.0500</td>\n",
       "      <td>0</td>\n",
       "      <td>0</td>\n",
       "      <td>0</td>\n",
       "      <td>0</td>\n",
       "      <td>0</td>\n",
       "      <td>0</td>\n",
       "      <td>0</td>\n",
       "      <td>...</td>\n",
       "      <td>0</td>\n",
       "      <td>0</td>\n",
       "      <td>0</td>\n",
       "      <td>3</td>\n",
       "      <td>0</td>\n",
       "      <td>0</td>\n",
       "      <td>2.0</td>\n",
       "      <td>0</td>\n",
       "      <td>0</td>\n",
       "      <td>0</td>\n",
       "    </tr>\n",
       "    <tr>\n",
       "      <th>1308</th>\n",
       "      <td>1309</td>\n",
       "      <td>28.0</td>\n",
       "      <td>22.3583</td>\n",
       "      <td>0</td>\n",
       "      <td>1</td>\n",
       "      <td>0</td>\n",
       "      <td>0</td>\n",
       "      <td>0</td>\n",
       "      <td>0</td>\n",
       "      <td>0</td>\n",
       "      <td>...</td>\n",
       "      <td>0</td>\n",
       "      <td>0</td>\n",
       "      <td>0</td>\n",
       "      <td>3</td>\n",
       "      <td>0</td>\n",
       "      <td>0</td>\n",
       "      <td>0.0</td>\n",
       "      <td>0</td>\n",
       "      <td>0</td>\n",
       "      <td>0</td>\n",
       "    </tr>\n",
       "  </tbody>\n",
       "</table>\n",
       "<p>1309 rows × 28 columns</p>\n",
       "</div>"
      ],
      "text/plain": [
       "      Passengerid   Age      Fare  Sex  sibsp  zero  zero.1  zero.2  zero.3  \\\n",
       "0               1  22.0    7.2500    0      1     0       0       0       0   \n",
       "1               2  38.0   71.2833    1      1     0       0       0       0   \n",
       "2               3  26.0    7.9250    1      0     0       0       0       0   \n",
       "3               4  35.0   53.1000    1      1     0       0       0       0   \n",
       "4               5  35.0    8.0500    0      0     0       0       0       0   \n",
       "...           ...   ...       ...  ...    ...   ...     ...     ...     ...   \n",
       "1304         1305  28.0    8.0500    0      0     0       0       0       0   \n",
       "1305         1306  39.0  108.9000    1      0     0       0       0       0   \n",
       "1306         1307  38.5    7.2500    0      0     0       0       0       0   \n",
       "1307         1308  28.0    8.0500    0      0     0       0       0       0   \n",
       "1308         1309  28.0   22.3583    0      1     0       0       0       0   \n",
       "\n",
       "      zero.4  ...  zero.12  zero.13  zero.14  Pclass  zero.15  zero.16  \\\n",
       "0          0  ...        0        0        0       3        0        0   \n",
       "1          0  ...        0        0        0       1        0        0   \n",
       "2          0  ...        0        0        0       3        0        0   \n",
       "3          0  ...        0        0        0       1        0        0   \n",
       "4          0  ...        0        0        0       3        0        0   \n",
       "...      ...  ...      ...      ...      ...     ...      ...      ...   \n",
       "1304       0  ...        0        0        0       3        0        0   \n",
       "1305       0  ...        0        0        0       1        0        0   \n",
       "1306       0  ...        0        0        0       3        0        0   \n",
       "1307       0  ...        0        0        0       3        0        0   \n",
       "1308       0  ...        0        0        0       3        0        0   \n",
       "\n",
       "      Embarked  zero.17  zero.18  2urvived  \n",
       "0          2.0        0        0         0  \n",
       "1          0.0        0        0         1  \n",
       "2          2.0        0        0         1  \n",
       "3          2.0        0        0         1  \n",
       "4          2.0        0        0         0  \n",
       "...        ...      ...      ...       ...  \n",
       "1304       2.0        0        0         0  \n",
       "1305       0.0        0        0         0  \n",
       "1306       2.0        0        0         0  \n",
       "1307       2.0        0        0         0  \n",
       "1308       0.0        0        0         0  \n",
       "\n",
       "[1309 rows x 28 columns]"
      ]
     },
     "execution_count": 2,
     "metadata": {},
     "output_type": "execute_result"
    }
   ],
   "source": [
    "# Importing the dataset\n",
    "df = pd.read_csv('Titanic.csv')\n",
    "df"
   ]
  },
  {
   "cell_type": "markdown",
   "id": "d879a4c8",
   "metadata": {},
   "source": [
    "# Initial Exploration of the Dataset"
   ]
  },
  {
   "cell_type": "code",
   "execution_count": 3,
   "id": "76c9ee33",
   "metadata": {},
   "outputs": [
    {
     "data": {
      "text/plain": [
       "<bound method DataFrame.info of       Passengerid   Age      Fare  Sex  sibsp  zero  zero.1  zero.2  zero.3  \\\n",
       "0               1  22.0    7.2500    0      1     0       0       0       0   \n",
       "1               2  38.0   71.2833    1      1     0       0       0       0   \n",
       "2               3  26.0    7.9250    1      0     0       0       0       0   \n",
       "3               4  35.0   53.1000    1      1     0       0       0       0   \n",
       "4               5  35.0    8.0500    0      0     0       0       0       0   \n",
       "...           ...   ...       ...  ...    ...   ...     ...     ...     ...   \n",
       "1304         1305  28.0    8.0500    0      0     0       0       0       0   \n",
       "1305         1306  39.0  108.9000    1      0     0       0       0       0   \n",
       "1306         1307  38.5    7.2500    0      0     0       0       0       0   \n",
       "1307         1308  28.0    8.0500    0      0     0       0       0       0   \n",
       "1308         1309  28.0   22.3583    0      1     0       0       0       0   \n",
       "\n",
       "      zero.4  ...  zero.12  zero.13  zero.14  Pclass  zero.15  zero.16  \\\n",
       "0          0  ...        0        0        0       3        0        0   \n",
       "1          0  ...        0        0        0       1        0        0   \n",
       "2          0  ...        0        0        0       3        0        0   \n",
       "3          0  ...        0        0        0       1        0        0   \n",
       "4          0  ...        0        0        0       3        0        0   \n",
       "...      ...  ...      ...      ...      ...     ...      ...      ...   \n",
       "1304       0  ...        0        0        0       3        0        0   \n",
       "1305       0  ...        0        0        0       1        0        0   \n",
       "1306       0  ...        0        0        0       3        0        0   \n",
       "1307       0  ...        0        0        0       3        0        0   \n",
       "1308       0  ...        0        0        0       3        0        0   \n",
       "\n",
       "      Embarked  zero.17  zero.18  2urvived  \n",
       "0          2.0        0        0         0  \n",
       "1          0.0        0        0         1  \n",
       "2          2.0        0        0         1  \n",
       "3          2.0        0        0         1  \n",
       "4          2.0        0        0         0  \n",
       "...        ...      ...      ...       ...  \n",
       "1304       2.0        0        0         0  \n",
       "1305       0.0        0        0         0  \n",
       "1306       2.0        0        0         0  \n",
       "1307       2.0        0        0         0  \n",
       "1308       0.0        0        0         0  \n",
       "\n",
       "[1309 rows x 28 columns]>"
      ]
     },
     "execution_count": 3,
     "metadata": {},
     "output_type": "execute_result"
    }
   ],
   "source": [
    "# Provides information about the dataset,including the number of entries,\n",
    "# column names, and data types.\n",
    "df.info"
   ]
  },
  {
   "cell_type": "code",
   "execution_count": 4,
   "id": "c366ec0e",
   "metadata": {},
   "outputs": [
    {
     "data": {
      "text/plain": [
       "Passengerid    0\n",
       "Age            0\n",
       "Fare           0\n",
       "Sex            0\n",
       "sibsp          0\n",
       "zero           0\n",
       "zero.1         0\n",
       "zero.2         0\n",
       "zero.3         0\n",
       "zero.4         0\n",
       "zero.5         0\n",
       "zero.6         0\n",
       "Parch          0\n",
       "zero.7         0\n",
       "zero.8         0\n",
       "zero.9         0\n",
       "zero.10        0\n",
       "zero.11        0\n",
       "zero.12        0\n",
       "zero.13        0\n",
       "zero.14        0\n",
       "Pclass         0\n",
       "zero.15        0\n",
       "zero.16        0\n",
       "Embarked       2\n",
       "zero.17        0\n",
       "zero.18        0\n",
       "2urvived       0\n",
       "dtype: int64"
      ]
     },
     "execution_count": 4,
     "metadata": {},
     "output_type": "execute_result"
    }
   ],
   "source": [
    "# Shows the number of missing values in each column.\n",
    "df.isnull().sum()"
   ]
  },
  {
   "cell_type": "markdown",
   "id": "c105abfc",
   "metadata": {},
   "source": [
    "# Data Cleanning"
   ]
  },
  {
   "cell_type": "markdown",
   "id": "4c4f4c8b",
   "metadata": {},
   "source": [
    "### Renaming the columns and removing"
   ]
  },
  {
   "cell_type": "code",
   "execution_count": 5,
   "id": "7a8ffa9e",
   "metadata": {},
   "outputs": [],
   "source": [
    "# Rename columns to more appropriate names\n",
    "df.rename(columns={\n",
    "    '2urvived': 'Survived',\n",
    "    'Passengerid': 'PassengerId',\n",
    "    # Drop irrelevant columns that seem to have no value\n",
    "}, inplace=True)\n"
   ]
  },
  {
   "cell_type": "code",
   "execution_count": 6,
   "id": "2ec39ae5",
   "metadata": {},
   "outputs": [
    {
     "data": {
      "text/plain": [
       "Index(['PassengerId', 'Age', 'Fare', 'Sex', 'sibsp', 'Parch', 'Pclass',\n",
       "       'Embarked', 'Survived'],\n",
       "      dtype='object')"
      ]
     },
     "execution_count": 6,
     "metadata": {},
     "output_type": "execute_result"
    }
   ],
   "source": [
    "# Dropping all columns that start with 'zero' as they seem to be placeholders\n",
    "df.drop(columns=[col for col in df.columns if 'zero' in col], inplace=True)\n",
    "\n",
    "# Verify the changes\n",
    "df.columns"
   ]
  },
  {
   "cell_type": "markdown",
   "id": "4ece1c2e",
   "metadata": {},
   "source": [
    "### Handling Missing Values\n"
   ]
  },
  {
   "cell_type": "code",
   "execution_count": 13,
   "id": "50d1c081",
   "metadata": {},
   "outputs": [
    {
     "name": "stdout",
     "output_type": "stream",
     "text": [
      "PassengerId    0\n",
      "Age            0\n",
      "Fare           0\n",
      "Sex            0\n",
      "sibsp          0\n",
      "Parch          0\n",
      "Pclass         0\n",
      "Embarked       2\n",
      "Survived       0\n",
      "dtype: int64\n"
     ]
    }
   ],
   "source": [
    "# Check the number of missing values in each column\n",
    "missing_values = df.isnull().sum()\n",
    "\n",
    "# Display the result\n",
    "print(missing_values)\n"
   ]
  },
  {
   "cell_type": "code",
   "execution_count": 10,
   "id": "a7c958f0",
   "metadata": {},
   "outputs": [
    {
     "name": "stdout",
     "output_type": "stream",
     "text": [
      "2.0    914\n",
      "0.0    270\n",
      "1.0    123\n",
      "Name: Embarked, dtype: int64\n"
     ]
    },
    {
     "data": {
      "image/png": "[encoded data removed]",
      "text/plain": [
       "<Figure size 640x480 with 1 Axes>"
      ]
     },
     "metadata": {},
     "output_type": "display_data"
    }
   ],
   "source": [
    "# Display the distribution of the 'Embarked' column\n",
    "embarked_counts = df['Embarked'].value_counts()\n",
    "print(embarked_counts)\n",
    "\n",
    "# Plot the distribution\n",
    "sns.countplot(x='Embarked', data=df)\n",
    "plt.title('Distribution of Embarked Locations')\n",
    "plt.show()\n"
   ]
  },
  {
   "cell_type": "code",
   "execution_count": 11,
   "id": "51079d95",
   "metadata": {},
   "outputs": [
    {
     "data": {
      "image/png": "[encoded data removed]",
      "text/plain": [
       "<Figure size 640x480 with 1 Axes>"
      ]
     },
     "metadata": {},
     "output_type": "display_data"
    },
    {
     "data": {
      "image/png": "[encoded data removed]",
      "text/plain": [
       "<Figure size 572.111x500 with 1 Axes>"
      ]
     },
     "metadata": {},
     "output_type": "display_data"
    }
   ],
   "source": [
    "# Plot the relationship between 'Embarked' and 'Fare'\n",
    "sns.boxplot(x='Embarked', y='Fare', data=df)\n",
    "plt.title('Fare Distribution by Embarked Location')\n",
    "plt.show()\n",
    "\n",
    "# Plot the survival rate by 'Embarked' location\n",
    "sns.catplot(x='Embarked', hue='Survived', kind='count', data=df)\n",
    "plt.title('Survival Count by Embarked Location')\n",
    "plt.show()\n"
   ]
  },
  {
   "cell_type": "code",
   "execution_count": 12,
   "id": "f70c546d",
   "metadata": {},
   "outputs": [
    {
     "name": "stdout",
     "output_type": "stream",
     "text": [
      "Embarked\n",
      "0.0    62.336267\n",
      "1.0    12.409012\n",
      "2.0    27.404639\n",
      "Name: Fare, dtype: float64\n",
      "     Fare  Pclass  Survived\n",
      "61   80.0       1         1\n",
      "829  80.0       1         1\n"
     ]
    }
   ],
   "source": [
    "# Calculate the average Fare for each Embarked location\n",
    "average_fare_by_embarked = df.groupby('Embarked')['Fare'].mean()\n",
    "print(average_fare_by_embarked)\n",
    "\n",
    "# Analyze the rows with missing 'Embarked' values to see if their 'Fare' matches any category\n",
    "missing_embarked = df[df['Embarked'].isnull()]\n",
    "print(missing_embarked[['Fare', 'Pclass', 'Survived']])\n"
   ]
  },
  {
   "cell_type": "code",
   "execution_count": 14,
   "id": "7b425d35",
   "metadata": {},
   "outputs": [
    {
     "name": "stdout",
     "output_type": "stream",
     "text": [
      "0\n"
     ]
    }
   ],
   "source": [
    "# Fill missing 'Embarked' values with the most common value\n",
    "df['Embarked'].fillna(df['Embarked'].mode()[0], inplace=True)\n",
    "\n",
    "# Verify the fill\n",
    "print(df['Embarked'].isnull().sum())\n"
   ]
  },
  {
   "cell_type": "markdown",
   "id": "cbe169b2",
   "metadata": {},
   "source": [
    "### Data Type Conversion"
   ]
  },
  {
   "cell_type": "code",
   "execution_count": 15,
   "id": "ccb5ed17",
   "metadata": {},
   "outputs": [
    {
     "data": {
      "text/plain": [
       "Index(['PassengerId', 'Age', 'Fare', 'Sex', 'sibsp', 'Parch', 'Pclass',\n",
       "       'Embarked', 'Survived'],\n",
       "      dtype='object')"
      ]
     },
     "execution_count": 15,
     "metadata": {},
     "output_type": "execute_result"
    }
   ],
   "source": [
    "df.columns"
   ]
  },
  {
   "cell_type": "code",
   "execution_count": 16,
   "id": "e0445681",
   "metadata": {},
   "outputs": [
    {
     "data": {
      "text/plain": [
       "PassengerId       int64\n",
       "Age             float64\n",
       "Fare            float64\n",
       "Sex               int64\n",
       "sibsp             int64\n",
       "Parch             int64\n",
       "Pclass         category\n",
       "Embarked       category\n",
       "Survived       category\n",
       "dtype: object"
      ]
     },
     "execution_count": 16,
     "metadata": {},
     "output_type": "execute_result"
    }
   ],
   "source": [
    "# Convert 'Pclass' and 'Embarked' to categorical data types\n",
    "df['Pclass'] = df['Pclass'].astype('category')\n",
    "df['Embarked'] = df['Embarked'].astype('category')\n",
    "\n",
    "# Convert 'Survived' to categorical\n",
    "df['Survived'] = df['Survived'].astype('category')\n",
    "\n",
    "# Verify the changes\n",
    "df.dtypes\n"
   ]
  },
  {
   "cell_type": "code",
   "execution_count": 17,
   "id": "abe5b110",
   "metadata": {},
   "outputs": [
    {
     "name": "stdout",
     "output_type": "stream",
     "text": [
      "Number of duplicate rows: 0\n"
     ]
    }
   ],
   "source": [
    "# Check for duplicate rows\n",
    "duplicates = df.duplicated().sum()\n",
    "print(f\"Number of duplicate rows: {duplicates}\")\n",
    "\n",
    "# Drop duplicates if any\n",
    "df.drop_duplicates(inplace=True)\n"
   ]
  },
  {
   "cell_type": "markdown",
   "id": "5498e83d",
   "metadata": {},
   "source": [
    "### Handling Outliers"
   ]
  },
  {
   "cell_type": "code",
   "execution_count": 20,
   "id": "612ece26",
   "metadata": {},
   "outputs": [
    {
     "data": {
      "image/png": "[encoded data removed]",
      "text/plain": [
       "<Figure size 640x480 with 1 Axes>"
      ]
     },
     "metadata": {},
     "output_type": "display_data"
    },
    {
     "data": {
      "image/png": "[encoded data removed]",
      "text/plain": [
       "<Figure size 640x480 with 1 Axes>"
      ]
     },
     "metadata": {},
     "output_type": "display_data"
    },
    {
     "data": {
      "image/png": "[encoded data removed]",
      "text/plain": [
       "<Figure size 640x480 with 1 Axes>"
      ]
     },
     "metadata": {},
     "output_type": "display_data"
    },
    {
     "data": {
      "image/png": "[encoded data removed]",
      "text/plain": [
       "<Figure size 640x480 with 1 Axes>"
      ]
     },
     "metadata": {},
     "output_type": "display_data"
    }
   ],
   "source": [
    "# Plotting a boxplot for 'Fare' to identify outliers\n",
    "sns.boxplot(x=df['Fare'])\n",
    "plt.title('Boxplot of Fare')\n",
    "plt.show()\n",
    "\n",
    "# Plotting a histogram for 'Fare' to see the distribution\n",
    "sns.histplot(df['Fare'], kde=True)\n",
    "plt.title('Histogram of Fare')\n",
    "plt.show()\n",
    "\n",
    "# Similarly, let's do the same for 'Age'\n",
    "sns.boxplot(x=df['Age'])\n",
    "plt.title('Boxplot of Age')\n",
    "plt.show()\n",
    "\n",
    "sns.histplot(df['Age'], kde=True)\n",
    "plt.title('Histogram of Age')\n",
    "plt.show()\n"
   ]
  },
  {
   "cell_type": "code",
   "execution_count": 18,
   "id": "e746b784",
   "metadata": {},
   "outputs": [
    {
     "name": "stdout",
     "output_type": "stream",
     "text": [
      "(1138, 9)\n"
     ]
    }
   ],
   "source": [
    "# Example: Handling outliers in the 'Fare' column using the IQR method\n",
    "Q1 = df['Fare'].quantile(0.25)\n",
    "Q3 = df['Fare'].quantile(0.75)\n",
    "IQR = Q3 - Q1\n",
    "\n",
    "# Define bounds for outliers\n",
    "lower_bound = Q1 - 1.5 * IQR\n",
    "upper_bound = Q3 + 1.5 * IQR\n",
    "\n",
    "# Filter out outliers\n",
    "df = df[(df['Fare'] >= lower_bound) & (df['Fare'] <= upper_bound)]\n",
    "\n",
    "# Display the shape of the dataset after removing outliers\n",
    "print(df.shape)"
   ]
  },
  {
   "cell_type": "code",
   "execution_count": 19,
   "id": "4495e018",
   "metadata": {},
   "outputs": [
    {
     "name": "stdout",
     "output_type": "stream",
     "text": [
      "Cleaned dataset saved as 'cleaned_titanic_data.csv'\n"
     ]
    }
   ],
   "source": [
    "# Save the cleaned dataset to a CSV file\n",
    "df.to_csv('cleaned_titanic_data.csv', index=False)\n",
    "\n",
    "print(\"Cleaned dataset saved as 'cleaned_titanic_data.csv'\")\n"
   ]
  },
  {
   "cell_type": "code",
   "execution_count": null,
   "id": "cbc5ad09",
   "metadata": {},
   "outputs": [],
   "source": []
  }
 ],
 "metadata": {
  "kernelspec": {
   "display_name": "Python 3 (ipykernel)",
   "language": "python",
   "name": "python3"
  },
  "language_info": {
   "codemirror_mode": {
    "name": "ipython",
    "version": 3
   },
   "file_extension": ".py",
   "mimetype": "text/x-python",
   "name": "python",
   "nbconvert_exporter": "python",
   "pygments_lexer": "ipython3",
   "version": "3.11.4"
  }
 },
 "nbformat": 4,
 "nbformat_minor": 5
}
